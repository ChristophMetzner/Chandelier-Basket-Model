{
 "cells": [
  {
   "cell_type": "markdown",
   "metadata": {},
   "source": [
    "# This notebook simulates the model for Figure 7\n",
    "\n",
    "Alterations at chandelier cells (tau=40ms) and basket cells (tau=28ms)"
   ]
  },
  {
   "cell_type": "code",
   "execution_count": null,
   "metadata": {},
   "outputs": [],
   "source": [
    "%matplotlib inline \n",
    "import numpy as np\n",
    "import matplotlib.pyplot as plt\n",
    "import matplotlib.mlab as mlab\n",
    "\n",
    "import sys\n",
    "sys.path.append(\"/home/christoph/Chandelier-Basket-Model/\")"
   ]
  },
  {
   "cell_type": "markdown",
   "metadata": {},
   "source": [
    "### Import necessary model and analysis modules\n"
   ]
  },
  {
   "cell_type": "code",
   "execution_count": null,
   "metadata": {},
   "outputs": [],
   "source": [
    "from Scripts.analysis import calcPowerSpectrum\n",
    "from Model.simple_model_chandelier_class import simpleModelChandelier\n",
    "from Scripts.plot_utility import plot_MEG_summary,plot_MEG_summary_overlay_4in1, plot_PSD_summary_overlay_4in1"
   ]
  },
  {
   "cell_type": "markdown",
   "metadata": {},
   "source": [
    "### Define model parameters"
   ]
  },
  {
   "cell_type": "code",
   "execution_count": null,
   "metadata": {},
   "outputs": [],
   "source": [
    "# Parameters\n",
    "n_ex            = 80              # number of excitatory cells\n",
    "\n",
    "\n",
    "eta             = 5.0             # \n",
    "tau_R           = 0.1             # 'synaptic rise time'\n",
    "tau_ex          = 2.0             # exc. 'synaptic decay time'\n",
    "tau_bask_ctrl   = 8.0             # inh. 'synaptic decay time'  for basket cell\n",
    "tau_chand_ctrl  = 8.0             # inh. 'synaptic decay time'  for chandelier cell\n",
    "tau_bask_schiz  = 28.0            # inh. 'synaptic decay time'  for basket cell\n",
    "tau_chand_schiz = 40.0            # inh. 'synaptic decay time'  for chandelier cell\n",
    "\n",
    "g_ee            = 0.00375         # E-E weight\n",
    "g_eb            = 0.00625         # default=0.025 E-B weight\n",
    "g_ec            = 0.00625         # default=0.025 E-C weight\n",
    "g_be            = 0.00375         # default=0.015 B-E weight\n",
    "g_ce_ctrl       = 0.00375         # default=0.015 C-E weight\n",
    "g_ce_schiz      = 0.00375         # default=0.015 C-E weight\n",
    "g_bb            = 0.005           # default=0.02 B-B weight\n",
    "g_cc            = 0.0             # no C-C inhibition\n",
    "g_bc            = 0.005           # default=0.02 B-C weight\n",
    "g_de            = 0.3             # default=0.3 Drive-E weight\n",
    "g_db            = 0.08            # default=0.08 Drive-B weight\n",
    "g_dc            = 0.08            # default=0.08 Drive-C weight\n",
    "\n",
    "\n",
    "s               = 2**13\n",
    "sim_time        = 500             # simulation stime (in ms) \n",
    "dt              = float(sim_time)/float(s)\n",
    "time            = np.linspace(0,sim_time,int(sim_time/dt)+1)\n",
    "\n",
    "b_ex            = -0.01           # default=-0.01 applied current for exc. cells\n",
    "b_bask          = -0.01           # default=-0.01 applied current for basket cells\n",
    "b_chand         = -0.01           # default=-0.01 applied current for chandelier cells\n",
    "background_rate = 33.3\n",
    "A               = 0.6\n",
    "\n",
    "seeds           = np.load('../Data/Avg-firing-rate-noise-only-seeds.npy')\n",
    "directory       = ''\n",
    "\n",
    "frequencies     = [20.0,30.0,40.0]\n",
    "chc_numbers     = [20,10,4,2]\n",
    "chc_percentages = ['50','25','10','05']"
   ]
  },
  {
   "cell_type": "markdown",
   "metadata": {},
   "source": [
    "### Simulate models\n"
   ]
  },
  {
   "cell_type": "code",
   "execution_count": null,
   "metadata": {},
   "outputs": [],
   "source": [
    "data = []\n",
    "for j,n_chand in enumerate(chc_numbers):\n",
    "    print 'Chandelier percentage:',chc_percentages[j]\n",
    "    n_bask = (n_ex/2)-n_chand # number of bask cells\n",
    "    chc_per = chc_percentages[j]\n",
    "    data_n =[]\n",
    "    for f in frequencies:\n",
    "        print 'Stimulation frequency:',f\n",
    "        drive_frequency = f\n",
    "            \n",
    "        meg_ctrl_avg    = np.zeros((8193,))\n",
    "        meg_schiz_avg   = np.zeros((8193,))\n",
    "        for k,seed in enumerate(seeds):\n",
    "            print k\n",
    "            filename_ctrl   = '../Data/Figure_7/Single-Trial-Data/Data-'+str(int(f))+'Hz/Ctrl_ChPer'+chc_per+'-'+str(int(f))+'Hz'+'_'+str(k)\n",
    "            filename_schiz  = '../Data/Figure_7/Single-Trial-Data/Data-'+str(int(f))+'Hz/Schiz_ChPer'+chc_per+'-'+str(int(f))+'Hz'+'_'+str(k)\n",
    "                \n",
    "            # Control model\n",
    "            model_ctrl = simpleModelChandelier(n_ex,n_bask,n_chand,eta,tau_R,tau_ex,tau_bask_ctrl,tau_chand_ctrl,g_ee,g_eb,g_ec,g_be,g_ce_ctrl,g_bb,g_cc,g_bc,g_de,g_db,g_dc,dt,b_ex,b_bask,b_chand,drive_frequency,background_rate,A,seed,filename_ctrl,directory)\n",
    "            meg_ctrl,ex_ctrl,bask_ctrl,chand_ctrl = model_ctrl.run(sim_time,1,1,1,1)\n",
    "            meg_ctrl_avg += meg_ctrl   \n",
    "                \n",
    "            # Schizophrenia-like model\n",
    "            model_schiz = simpleModelChandelier(n_ex,n_bask,n_chand,eta,tau_R,tau_ex,tau_bask_schiz,tau_chand_schiz,g_ee,g_eb,g_ec,g_be,g_ce_schiz,g_bb,g_cc,g_bc,g_de,g_db,g_dc,dt,b_ex,b_bask,b_chand,drive_frequency,background_rate,A,seed,filename_schiz,directory)\n",
    "            meg_schiz,ex_schiz,bask_schiz,chand_schiz = model_schiz.run(sim_time,1,1,1,1)\n",
    "            meg_schiz_avg += meg_schiz   \n",
    "                \n",
    "            \n",
    "        meg_ctrl_avg = meg_ctrl_avg /len(seeds)\n",
    "        np.save('../Data/Figure_7/Ctrl-ChPer'+chc_per+'-MEG-'+str(int(f))+'Hz',meg_ctrl_avg)\n",
    "        \n",
    "        meg_schiz_avg = meg_schiz_avg /len(seeds)\n",
    "        np.save('../Data/Figure_7/Schiz-ChPer'+chc_per+'-MEG-'+str(int(f))+'Hz',meg_schiz_avg)\n",
    "            \n",
    "        data_n.append((meg_ctrl_avg,meg_schiz_avg)) \n",
    "    data.append(data_n)\n",
    "np.save('../Data/fig7.npy',data)"
   ]
  }
 ],
 "metadata": {
  "kernelspec": {
   "display_name": "Python 2",
   "language": "python",
   "name": "python2"
  },
  "language_info": {
   "codemirror_mode": {
    "name": "ipython",
    "version": 2
   },
   "file_extension": ".py",
   "mimetype": "text/x-python",
   "name": "python",
   "nbconvert_exporter": "python",
   "pygments_lexer": "ipython2",
   "version": "2.7.12"
  }
 },
 "nbformat": 4,
 "nbformat_minor": 1
}
